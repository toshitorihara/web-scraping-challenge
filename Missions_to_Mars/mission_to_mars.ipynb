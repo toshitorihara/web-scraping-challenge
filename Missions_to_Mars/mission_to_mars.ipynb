{
 "cells": [
  {
   "cell_type": "code",
   "execution_count": 2,
   "source": [
    "# Dependencies\r\n",
    "from bs4 import BeautifulSoup\r\n",
    "import requests\r\n",
    "import pymongo\r\n",
    "\r\n",
    "import pandas as pd\r\n",
    "import os"
   ],
   "outputs": [],
   "metadata": {}
  },
  {
   "cell_type": "code",
   "execution_count": null,
   "source": [
    "# Initialize PyMongo to work with MongoDBs\r\n",
    "conn = 'mongodb://localhost:27017'\r\n",
    "client = pymongo.MongoClient(conn)"
   ],
   "outputs": [],
   "metadata": {}
  },
  {
   "cell_type": "code",
   "execution_count": null,
   "source": [
    "# Define database and collection\r\n",
    "db = client.mars_db\r\n",
    "collection = db."
   ],
   "outputs": [],
   "metadata": {}
  },
  {
   "cell_type": "code",
   "execution_count": null,
   "source": [
    "# URL of page to be scraped\r\n",
    "url = 'https://'\r\n",
    "\r\n",
    "# Retrieve page with the requests module\r\n",
    "response = requests.get(url)\r\n",
    "# Create BeautifulSoup object; parse with 'html.parser'\r\n",
    "soup = BeautifulSoup(response.text, 'html.parser')"
   ],
   "outputs": [],
   "metadata": {}
  },
  {
   "cell_type": "code",
   "execution_count": null,
   "source": [
    "# Retrieve the parent divs for all articles\r\n",
    "results = soup.find_all('div', class_='')\r\n",
    "\r\n",
    "# loop over results to get article data\r\n",
    "for result in results:\r\n",
    "    # scrape the article header \r\n",
    "    header = result.find('h1', class_='article-item__headline').text\r\n",
    "    \r\n",
    "    # scrape the article subheader\r\n",
    "    subheader = result.find('h2', class_='article-item__subheader').text\r\n",
    "    \r\n",
    "    # scrape the datetime\r\n",
    "    datetime = result.find('span', class_='article-item__date')['data-date'] \r\n",
    "    \r\n",
    "    # get only the date from the datetime\r\n",
    "    date = datetime.split('T')[0]\r\n",
    "    \r\n",
    "    # print article data\r\n",
    "    print('-----------------')\r\n",
    "    print(header)\r\n",
    "    print(subheader)\r\n",
    "    print(date)\r\n",
    "\r\n",
    "    # Dictionary to be inserted into MongoDB\r\n",
    "    post = {\r\n",
    "        'header': header,\r\n",
    "        'subheader': subheader,\r\n",
    "        'date': date,\r\n",
    "    }\r\n",
    "\r\n",
    "    # Insert dictionary into MongoDB as a document\r\n",
    "    collection.insert_one(post)"
   ],
   "outputs": [],
   "metadata": {}
  },
  {
   "cell_type": "code",
   "execution_count": null,
   "source": [
    "# Display the MongoDB records created above\r\n",
    "articles = db.articles.find()\r\n",
    "for article in articles:\r\n",
    "    print(article)"
   ],
   "outputs": [],
   "metadata": {}
  },
  {
   "cell_type": "code",
   "execution_count": null,
   "source": [
    "# Example:\r\n",
    "news_title = \"NASA's Next Mars Mission to Investigate Interior of Red Planet\"\r\n",
    "\r\n",
    "news_p = \"Preparation of NASA's next spacecraft to Mars, InSight, has ramped up this summer, on course for launch next May from Vandenberg Air Force Base in central California -- the first interplanetary launch in history from America's West Coast.\""
   ],
   "outputs": [],
   "metadata": {}
  },
  {
   "cell_type": "code",
   "execution_count": null,
   "source": [
    "# Example:\r\n",
    "featured_image_url = 'https://spaceimages-mars.com/image/featured/mars2.jpg'"
   ],
   "outputs": [],
   "metadata": {}
  },
  {
   "cell_type": "code",
   "execution_count": null,
   "source": [
    "# Example:\r\n",
    "hemisphere_image_urls = [\r\n",
    "    {\"title\": \"Valles Marineris Hemisphere\", \"img_url\": \"...\"},\r\n",
    "    {\"title\": \"Cerberus Hemisphere\", \"img_url\": \"...\"},\r\n",
    "    {\"title\": \"Schiaparelli Hemisphere\", \"img_url\": \"...\"},\r\n",
    "    {\"title\": \"Syrtis Major Hemisphere\", \"img_url\": \"...\"},\r\n",
    "]"
   ],
   "outputs": [],
   "metadata": {}
  }
 ],
 "metadata": {
  "orig_nbformat": 4,
  "language_info": {
   "name": "python",
   "version": "3.6.10",
   "mimetype": "text/x-python",
   "codemirror_mode": {
    "name": "ipython",
    "version": 3
   },
   "pygments_lexer": "ipython3",
   "nbconvert_exporter": "python",
   "file_extension": ".py"
  },
  "kernelspec": {
   "name": "python3",
   "display_name": "Python 3.6.10 64-bit ('PythonData': conda)"
  },
  "interpreter": {
   "hash": "352eb0fdbc39df23c3941759226aac7a80e9e8fcb0968112f6f9929c3d7daf2e"
  }
 },
 "nbformat": 4,
 "nbformat_minor": 2
}